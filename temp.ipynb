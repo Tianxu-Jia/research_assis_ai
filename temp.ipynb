{
 "cells": [
  {
   "cell_type": "code",
   "execution_count": 1,
   "metadata": {},
   "outputs": [
    {
     "data": {
      "text/plain": [
       "'Computing Machinery and Intelligence'"
      ]
     },
     "execution_count": 1,
     "metadata": {},
     "output_type": "execute_result"
    }
   ],
   "source": [
    "from semanticscholar import SemanticScholar\n",
    "sch = SemanticScholar()\n",
    "paper = sch.get_paper('10.1093/mind/lix.236.433')\n",
    "paper.title"
   ]
  },
  {
   "cell_type": "code",
   "execution_count": 2,
   "metadata": {},
   "outputs": [
    {
     "data": {
      "text/plain": [
       "'A. Turing'"
      ]
     },
     "execution_count": 2,
     "metadata": {},
     "output_type": "execute_result"
    }
   ],
   "source": [
    "author = sch.get_author(2262347)\n",
    "author.name"
   ]
  },
  {
   "cell_type": "code",
   "execution_count": 3,
   "metadata": {},
   "outputs": [
    {
     "name": "stdout",
     "output_type": "stream",
     "text": [
      "How Much Should We Trust Differences-in-Differences Estimates?\n",
      "The Miracle of Microfinance? Evidence from a Randomized Evaluation\n",
      "Improving Third-Party Audits and Regulatory Compliance in India\n"
     ]
    }
   ],
   "source": [
    "list_of_paper_ids = [\n",
    "     'CorpusId:470667',\n",
    "     '10.2139/ssrn.2250500',\n",
    "     '0f40b1f08821e22e859c6050916cec3667778613'\n",
    "]\n",
    "results = sch.get_papers(list_of_paper_ids)\n",
    "for item in results:\n",
    "     print(item.title)"
   ]
  },
  {
   "cell_type": "code",
   "execution_count": 4,
   "metadata": {},
   "outputs": [
    {
     "name": "stdout",
     "output_type": "stream",
     "text": [
      "E. Dijkstra\n",
      "D. Parnas\n",
      "I. Sommerville\n"
     ]
    }
   ],
   "source": [
    "list_of_author_ids = ['3234559', '1726629', '1711844']\n",
    "results = sch.get_authors(list_of_author_ids)\n",
    "for item in results:\n",
    "     print(item.name)"
   ]
  },
  {
   "cell_type": "code",
   "execution_count": 6,
   "metadata": {},
   "outputs": [
    {
     "name": "stdout",
     "output_type": "stream",
     "text": [
      "569 results. First occurrence: Computing Machinery and Intelligence.\n"
     ]
    }
   ],
   "source": [
    "results = sch.search_paper('Computing Machinery and Intelligence', limit=5)\n",
    "print(f'{results.total} results.', f'First occurrence: {results[0].title}.')"
   ]
  },
  {
   "cell_type": "code",
   "execution_count": null,
   "metadata": {},
   "outputs": [],
   "source": []
  }
 ],
 "metadata": {
  "kernelspec": {
   "display_name": "ai_scientist",
   "language": "python",
   "name": "python3"
  },
  "language_info": {
   "codemirror_mode": {
    "name": "ipython",
    "version": 3
   },
   "file_extension": ".py",
   "mimetype": "text/x-python",
   "name": "python",
   "nbconvert_exporter": "python",
   "pygments_lexer": "ipython3",
   "version": "3.11.9"
  }
 },
 "nbformat": 4,
 "nbformat_minor": 2
}
